{
 "cells": [
  {
   "cell_type": "markdown",
   "id": "e8d0e902-737f-495f-8df8-cbf5b119439b",
   "metadata": {},
   "source": [
    "# Análise de Qualidade do Vinho Tinto - Vinho Verde"
   ]
  },
  {
   "cell_type": "markdown",
   "id": "2cd68522-f553-4e01-9cad-2b3595bf9710",
   "metadata": {},
   "source": [
    "## 1. Descrição do Problema"
   ]
  },
  {
   "cell_type": "markdown",
   "id": "0f4f05cb-f406-426c-b9aa-0e7c508ffc38",
   "metadata": {},
   "source": [
    "A distribuidora de vinhos FIAPWine decidiu expandir seus horizontes e agora está importando vinhos tintos e brancos portugueses, mais especificamente a marca \"Vinho Verde\", que fará sua carta de vinhos se tornar mais vasta aqui no Brasil.\n",
    "\n",
    "Hoje, o Head de Dados da FIAPWine necessita de uma equipe de dados alinhada com o propósito de gerar insights valiosos para análise da qualidade dos novos vinhos. Para isso, foi disponibilizada uma base de dados sobre o vinho português do ano de 2009, cuja a referência acadêmica se encontra no artigo de Cortez et al., 2009.\n",
    "\n",
    "Você foi designado para fazer as análises nos vinhos tintos, então é necessário que você siga os seguintes passos:\n",
    "\n",
    "1. Importe o dataset \"winequality-red.csv\" que pode ser baixado no seguinte link: aqui.\n",
    "2. Utilize o Pandas para verificar a estrutura do dataset (número de linhas, colunas, tipos de dados das colunas, etc.).\n",
    "3. Limpe o dataset, removendo linhas duplicadas e tratando valores faltantes.\n",
    "4. Utilize o Matplotlib para visualizar as seguintes informações:\n",
    "a. Distribuição da acidez volátil por qualidade do vinho.\n",
    "\n",
    "b. Distribuição do teor alcoólico por qualidade do vinho.\n",
    "\n",
    "c. Relação entre acidez volátil e teor alcoólico.\n",
    "\n",
    "d. Relação entre teor alcoólico e qualidade do vinho.\n",
    "\n",
    "5. Analise os resultados e responda às seguintes perguntas:\n",
    "a. Qual a acidez volátil média dos vinhos de qualidade elevada?\n",
    "\n",
    "b. Qual é a relação entre teor alcoólico e qualidade do vinho?\n",
    "\n",
    "c. Há alguma relação entre acidez volátil e teor alcoólico?\n",
    "\n",
    "d. Há alguma relação entre acidez volátil e qualidade do vinho?"
   ]
  },
  {
   "cell_type": "markdown",
   "id": "d0497cee-6b77-4c65-8d36-a68027b55489",
   "metadata": {},
   "source": [
    "## 2. Carregando Dados"
   ]
  },
  {
   "cell_type": "markdown",
   "id": "3c2d0dd8-0103-4e3f-a7df-094c3137de38",
   "metadata": {},
   "source": [
    "### 2.1 Importando Bibliotecas Necessárias"
   ]
  },
  {
   "cell_type": "markdown",
   "id": "19a11cd4-e2cf-4782-bc52-41eb3bd706ba",
   "metadata": {},
   "source": [
    "Começo o projeto importando as bibliotecas necessárias, para as fases iniciais de exploração, e transformação de dados, assim como as visualizações."
   ]
  },
  {
   "cell_type": "code",
   "execution_count": 2,
   "id": "886acac1-3535-48b6-843c-13570d78b3ea",
   "metadata": {},
   "outputs": [],
   "source": [
    "# importando bibliotecas\n",
    "import pandas as pd\n",
    "import matplotlib.pyplot as plt"
   ]
  },
  {
   "cell_type": "markdown",
   "id": "09b69028-5c83-4b2b-bba6-d2c0bb1ead98",
   "metadata": {},
   "source": [
    "### 2.2 Carregando Dados"
   ]
  },
  {
   "cell_type": "code",
   "execution_count": 3,
   "id": "ddf33abf-142d-4775-bfd0-4c51fc4036d3",
   "metadata": {},
   "outputs": [],
   "source": [
    "# importando a base de dados csv\n",
    "dados = pd.read_csv('dados/winequality-red.csv', sep = ';')"
   ]
  },
  {
   "cell_type": "code",
   "execution_count": 4,
   "id": "a2482601-e1c0-4165-b66c-035a9831a59b",
   "metadata": {},
   "outputs": [
    {
     "data": {
      "text/html": [
       "<div>\n",
       "<style scoped>\n",
       "    .dataframe tbody tr th:only-of-type {\n",
       "        vertical-align: middle;\n",
       "    }\n",
       "\n",
       "    .dataframe tbody tr th {\n",
       "        vertical-align: top;\n",
       "    }\n",
       "\n",
       "    .dataframe thead th {\n",
       "        text-align: right;\n",
       "    }\n",
       "</style>\n",
       "<table border=\"1\" class=\"dataframe\">\n",
       "  <thead>\n",
       "    <tr style=\"text-align: right;\">\n",
       "      <th></th>\n",
       "      <th>fixed acidity</th>\n",
       "      <th>volatile acidity</th>\n",
       "      <th>citric acid</th>\n",
       "      <th>residual sugar</th>\n",
       "      <th>chlorides</th>\n",
       "      <th>free sulfur dioxide</th>\n",
       "      <th>total sulfur dioxide</th>\n",
       "      <th>density</th>\n",
       "      <th>pH</th>\n",
       "      <th>sulphates</th>\n",
       "      <th>alcohol</th>\n",
       "      <th>quality</th>\n",
       "    </tr>\n",
       "  </thead>\n",
       "  <tbody>\n",
       "    <tr>\n",
       "      <th>0</th>\n",
       "      <td>7.4</td>\n",
       "      <td>0.70</td>\n",
       "      <td>0.00</td>\n",
       "      <td>1.9</td>\n",
       "      <td>0.076</td>\n",
       "      <td>11.0</td>\n",
       "      <td>34.0</td>\n",
       "      <td>0.9978</td>\n",
       "      <td>3.51</td>\n",
       "      <td>0.56</td>\n",
       "      <td>9.4</td>\n",
       "      <td>5</td>\n",
       "    </tr>\n",
       "    <tr>\n",
       "      <th>1</th>\n",
       "      <td>7.8</td>\n",
       "      <td>0.88</td>\n",
       "      <td>0.00</td>\n",
       "      <td>2.6</td>\n",
       "      <td>0.098</td>\n",
       "      <td>25.0</td>\n",
       "      <td>67.0</td>\n",
       "      <td>0.9968</td>\n",
       "      <td>3.20</td>\n",
       "      <td>0.68</td>\n",
       "      <td>9.8</td>\n",
       "      <td>5</td>\n",
       "    </tr>\n",
       "    <tr>\n",
       "      <th>2</th>\n",
       "      <td>7.8</td>\n",
       "      <td>0.76</td>\n",
       "      <td>0.04</td>\n",
       "      <td>2.3</td>\n",
       "      <td>0.092</td>\n",
       "      <td>15.0</td>\n",
       "      <td>54.0</td>\n",
       "      <td>0.9970</td>\n",
       "      <td>3.26</td>\n",
       "      <td>0.65</td>\n",
       "      <td>9.8</td>\n",
       "      <td>5</td>\n",
       "    </tr>\n",
       "    <tr>\n",
       "      <th>3</th>\n",
       "      <td>11.2</td>\n",
       "      <td>0.28</td>\n",
       "      <td>0.56</td>\n",
       "      <td>1.9</td>\n",
       "      <td>0.075</td>\n",
       "      <td>17.0</td>\n",
       "      <td>60.0</td>\n",
       "      <td>0.9980</td>\n",
       "      <td>3.16</td>\n",
       "      <td>0.58</td>\n",
       "      <td>9.8</td>\n",
       "      <td>6</td>\n",
       "    </tr>\n",
       "    <tr>\n",
       "      <th>4</th>\n",
       "      <td>7.4</td>\n",
       "      <td>0.70</td>\n",
       "      <td>0.00</td>\n",
       "      <td>1.9</td>\n",
       "      <td>0.076</td>\n",
       "      <td>11.0</td>\n",
       "      <td>34.0</td>\n",
       "      <td>0.9978</td>\n",
       "      <td>3.51</td>\n",
       "      <td>0.56</td>\n",
       "      <td>9.4</td>\n",
       "      <td>5</td>\n",
       "    </tr>\n",
       "    <tr>\n",
       "      <th>5</th>\n",
       "      <td>7.4</td>\n",
       "      <td>0.66</td>\n",
       "      <td>0.00</td>\n",
       "      <td>1.8</td>\n",
       "      <td>0.075</td>\n",
       "      <td>13.0</td>\n",
       "      <td>40.0</td>\n",
       "      <td>0.9978</td>\n",
       "      <td>3.51</td>\n",
       "      <td>0.56</td>\n",
       "      <td>9.4</td>\n",
       "      <td>5</td>\n",
       "    </tr>\n",
       "    <tr>\n",
       "      <th>6</th>\n",
       "      <td>7.9</td>\n",
       "      <td>0.60</td>\n",
       "      <td>0.06</td>\n",
       "      <td>1.6</td>\n",
       "      <td>0.069</td>\n",
       "      <td>15.0</td>\n",
       "      <td>59.0</td>\n",
       "      <td>0.9964</td>\n",
       "      <td>3.30</td>\n",
       "      <td>0.46</td>\n",
       "      <td>9.4</td>\n",
       "      <td>5</td>\n",
       "    </tr>\n",
       "    <tr>\n",
       "      <th>7</th>\n",
       "      <td>7.3</td>\n",
       "      <td>0.65</td>\n",
       "      <td>0.00</td>\n",
       "      <td>1.2</td>\n",
       "      <td>0.065</td>\n",
       "      <td>15.0</td>\n",
       "      <td>21.0</td>\n",
       "      <td>0.9946</td>\n",
       "      <td>3.39</td>\n",
       "      <td>0.47</td>\n",
       "      <td>10.0</td>\n",
       "      <td>7</td>\n",
       "    </tr>\n",
       "    <tr>\n",
       "      <th>8</th>\n",
       "      <td>7.8</td>\n",
       "      <td>0.58</td>\n",
       "      <td>0.02</td>\n",
       "      <td>2.0</td>\n",
       "      <td>0.073</td>\n",
       "      <td>9.0</td>\n",
       "      <td>18.0</td>\n",
       "      <td>0.9968</td>\n",
       "      <td>3.36</td>\n",
       "      <td>0.57</td>\n",
       "      <td>9.5</td>\n",
       "      <td>7</td>\n",
       "    </tr>\n",
       "    <tr>\n",
       "      <th>9</th>\n",
       "      <td>7.5</td>\n",
       "      <td>0.50</td>\n",
       "      <td>0.36</td>\n",
       "      <td>6.1</td>\n",
       "      <td>0.071</td>\n",
       "      <td>17.0</td>\n",
       "      <td>102.0</td>\n",
       "      <td>0.9978</td>\n",
       "      <td>3.35</td>\n",
       "      <td>0.80</td>\n",
       "      <td>10.5</td>\n",
       "      <td>5</td>\n",
       "    </tr>\n",
       "  </tbody>\n",
       "</table>\n",
       "</div>"
      ],
      "text/plain": [
       "   fixed acidity  volatile acidity  citric acid  residual sugar  chlorides  \\\n",
       "0            7.4              0.70         0.00             1.9      0.076   \n",
       "1            7.8              0.88         0.00             2.6      0.098   \n",
       "2            7.8              0.76         0.04             2.3      0.092   \n",
       "3           11.2              0.28         0.56             1.9      0.075   \n",
       "4            7.4              0.70         0.00             1.9      0.076   \n",
       "5            7.4              0.66         0.00             1.8      0.075   \n",
       "6            7.9              0.60         0.06             1.6      0.069   \n",
       "7            7.3              0.65         0.00             1.2      0.065   \n",
       "8            7.8              0.58         0.02             2.0      0.073   \n",
       "9            7.5              0.50         0.36             6.1      0.071   \n",
       "\n",
       "   free sulfur dioxide  total sulfur dioxide  density    pH  sulphates  \\\n",
       "0                 11.0                  34.0   0.9978  3.51       0.56   \n",
       "1                 25.0                  67.0   0.9968  3.20       0.68   \n",
       "2                 15.0                  54.0   0.9970  3.26       0.65   \n",
       "3                 17.0                  60.0   0.9980  3.16       0.58   \n",
       "4                 11.0                  34.0   0.9978  3.51       0.56   \n",
       "5                 13.0                  40.0   0.9978  3.51       0.56   \n",
       "6                 15.0                  59.0   0.9964  3.30       0.46   \n",
       "7                 15.0                  21.0   0.9946  3.39       0.47   \n",
       "8                  9.0                  18.0   0.9968  3.36       0.57   \n",
       "9                 17.0                 102.0   0.9978  3.35       0.80   \n",
       "\n",
       "   alcohol  quality  \n",
       "0      9.4        5  \n",
       "1      9.8        5  \n",
       "2      9.8        5  \n",
       "3      9.8        6  \n",
       "4      9.4        5  \n",
       "5      9.4        5  \n",
       "6      9.4        5  \n",
       "7     10.0        7  \n",
       "8      9.5        7  \n",
       "9     10.5        5  "
      ]
     },
     "execution_count": 4,
     "metadata": {},
     "output_type": "execute_result"
    }
   ],
   "source": [
    "# exibição das 10 primeiras linhas do dataset\n",
    "dados.head(10)"
   ]
  },
  {
   "cell_type": "markdown",
   "id": "9159cccd-f821-45c5-adfd-e165962d8432",
   "metadata": {},
   "source": [
    "## 3. Preparando Dados para a Análise"
   ]
  },
  {
   "cell_type": "markdown",
   "id": "87919421-22be-439a-8c10-dacd1268508a",
   "metadata": {},
   "source": [
    "Nessa etapa é feita a transformação dos dados necessárias, para que os dados estejam padronizados e prontos para que sejam criadas as primeiras visualizações."
   ]
  },
  {
   "cell_type": "markdown",
   "id": "b8658c7f-c3f5-4202-b178-009e9c61b73f",
   "metadata": {},
   "source": [
    "### 3.1 Visão Geral dos Dados"
   ]
  },
  {
   "cell_type": "code",
   "execution_count": 25,
   "id": "f1066cfa-a416-47de-9a39-a163d2344932",
   "metadata": {},
   "outputs": [
    {
     "data": {
      "text/plain": [
       "(1599, 12)"
      ]
     },
     "execution_count": 25,
     "metadata": {},
     "output_type": "execute_result"
    }
   ],
   "source": [
    "# visualizando dimensões da base de dados\n",
    "dados.shape"
   ]
  },
  {
   "cell_type": "markdown",
   "id": "c1edf80c-81c7-43e6-badd-84a608c12eb8",
   "metadata": {},
   "source": [
    "É possível identificar que na base de dados existem *1599 registros*, e *12 colunas*."
   ]
  },
  {
   "cell_type": "code",
   "execution_count": 5,
   "id": "937963c4-9e1b-4d23-9fbf-ca06f49b5dd5",
   "metadata": {},
   "outputs": [
    {
     "name": "stdout",
     "output_type": "stream",
     "text": [
      "<class 'pandas.core.frame.DataFrame'>\n",
      "RangeIndex: 1599 entries, 0 to 1598\n",
      "Data columns (total 12 columns):\n",
      " #   Column                Non-Null Count  Dtype  \n",
      "---  ------                --------------  -----  \n",
      " 0   fixed acidity         1599 non-null   float64\n",
      " 1   volatile acidity      1599 non-null   float64\n",
      " 2   citric acid           1599 non-null   float64\n",
      " 3   residual sugar        1599 non-null   float64\n",
      " 4   chlorides             1599 non-null   float64\n",
      " 5   free sulfur dioxide   1599 non-null   float64\n",
      " 6   total sulfur dioxide  1599 non-null   float64\n",
      " 7   density               1599 non-null   float64\n",
      " 8   pH                    1599 non-null   float64\n",
      " 9   sulphates             1599 non-null   float64\n",
      " 10  alcohol               1599 non-null   float64\n",
      " 11  quality               1599 non-null   int64  \n",
      "dtypes: float64(11), int64(1)\n",
      "memory usage: 150.0 KB\n"
     ]
    }
   ],
   "source": [
    "# exibição das informações das variáveis\n",
    "dados.info()"
   ]
  },
  {
   "cell_type": "markdown",
   "id": "94c112cf-1c17-43dd-8d5a-5369968171de",
   "metadata": {},
   "source": [
    "Utilizando o *.info()*, é possível identificar diversar informações, como existência de dados nulos, tipo de cada variável, e também a confirmação das dimensões da base dados."
   ]
  },
  {
   "cell_type": "code",
   "execution_count": 6,
   "id": "4e0652fb-c15e-4071-9c6e-70777828d2ae",
   "metadata": {},
   "outputs": [
    {
     "data": {
      "text/plain": [
       "True"
      ]
     },
     "execution_count": 6,
     "metadata": {},
     "output_type": "execute_result"
    }
   ],
   "source": [
    "# verificação de duplicidades do index\n",
    "dados.index.is_unique"
   ]
  },
  {
   "cell_type": "markdown",
   "id": "d3e3f0a9-d3fd-4c99-be9f-971bd8051e69",
   "metadata": {},
   "source": [
    "*Não há valores de index* duplicados."
   ]
  },
  {
   "cell_type": "code",
   "execution_count": 27,
   "id": "dbe05814-f05c-46b7-b52b-b865e0ff3c80",
   "metadata": {},
   "outputs": [
    {
     "data": {
      "text/plain": [
       "np.int64(240)"
      ]
     },
     "execution_count": 27,
     "metadata": {},
     "output_type": "execute_result"
    }
   ],
   "source": [
    "dados.duplicated().sum()"
   ]
  },
  {
   "cell_type": "markdown",
   "id": "5d2365e0-5793-45ea-bf08-4cdf9a08c696",
   "metadata": {},
   "source": [
    "*Existem 240 registros duplicados* dentro da base de dados, e devem ser limpos para uma melhor visualização."
   ]
  },
  {
   "cell_type": "code",
   "execution_count": 7,
   "id": "f923a4ac-199d-4e61-a30d-f2732339d8cc",
   "metadata": {},
   "outputs": [
    {
     "data": {
      "text/html": [
       "<div>\n",
       "<style scoped>\n",
       "    .dataframe tbody tr th:only-of-type {\n",
       "        vertical-align: middle;\n",
       "    }\n",
       "\n",
       "    .dataframe tbody tr th {\n",
       "        vertical-align: top;\n",
       "    }\n",
       "\n",
       "    .dataframe thead th {\n",
       "        text-align: right;\n",
       "    }\n",
       "</style>\n",
       "<table border=\"1\" class=\"dataframe\">\n",
       "  <thead>\n",
       "    <tr style=\"text-align: right;\">\n",
       "      <th></th>\n",
       "      <th>fixed acidity</th>\n",
       "      <th>volatile acidity</th>\n",
       "      <th>citric acid</th>\n",
       "      <th>residual sugar</th>\n",
       "      <th>chlorides</th>\n",
       "      <th>free sulfur dioxide</th>\n",
       "      <th>total sulfur dioxide</th>\n",
       "      <th>density</th>\n",
       "      <th>pH</th>\n",
       "      <th>sulphates</th>\n",
       "      <th>alcohol</th>\n",
       "      <th>quality</th>\n",
       "    </tr>\n",
       "  </thead>\n",
       "  <tbody>\n",
       "    <tr>\n",
       "      <th>0</th>\n",
       "      <td>7.4</td>\n",
       "      <td>0.700</td>\n",
       "      <td>0.00</td>\n",
       "      <td>1.9</td>\n",
       "      <td>0.076</td>\n",
       "      <td>11.0</td>\n",
       "      <td>34.0</td>\n",
       "      <td>0.99780</td>\n",
       "      <td>3.51</td>\n",
       "      <td>0.56</td>\n",
       "      <td>9.4</td>\n",
       "      <td>5</td>\n",
       "    </tr>\n",
       "    <tr>\n",
       "      <th>1</th>\n",
       "      <td>7.8</td>\n",
       "      <td>0.880</td>\n",
       "      <td>0.00</td>\n",
       "      <td>2.6</td>\n",
       "      <td>0.098</td>\n",
       "      <td>25.0</td>\n",
       "      <td>67.0</td>\n",
       "      <td>0.99680</td>\n",
       "      <td>3.20</td>\n",
       "      <td>0.68</td>\n",
       "      <td>9.8</td>\n",
       "      <td>5</td>\n",
       "    </tr>\n",
       "    <tr>\n",
       "      <th>2</th>\n",
       "      <td>7.8</td>\n",
       "      <td>0.760</td>\n",
       "      <td>0.04</td>\n",
       "      <td>2.3</td>\n",
       "      <td>0.092</td>\n",
       "      <td>15.0</td>\n",
       "      <td>54.0</td>\n",
       "      <td>0.99700</td>\n",
       "      <td>3.26</td>\n",
       "      <td>0.65</td>\n",
       "      <td>9.8</td>\n",
       "      <td>5</td>\n",
       "    </tr>\n",
       "    <tr>\n",
       "      <th>3</th>\n",
       "      <td>11.2</td>\n",
       "      <td>0.280</td>\n",
       "      <td>0.56</td>\n",
       "      <td>1.9</td>\n",
       "      <td>0.075</td>\n",
       "      <td>17.0</td>\n",
       "      <td>60.0</td>\n",
       "      <td>0.99800</td>\n",
       "      <td>3.16</td>\n",
       "      <td>0.58</td>\n",
       "      <td>9.8</td>\n",
       "      <td>6</td>\n",
       "    </tr>\n",
       "    <tr>\n",
       "      <th>5</th>\n",
       "      <td>7.4</td>\n",
       "      <td>0.660</td>\n",
       "      <td>0.00</td>\n",
       "      <td>1.8</td>\n",
       "      <td>0.075</td>\n",
       "      <td>13.0</td>\n",
       "      <td>40.0</td>\n",
       "      <td>0.99780</td>\n",
       "      <td>3.51</td>\n",
       "      <td>0.56</td>\n",
       "      <td>9.4</td>\n",
       "      <td>5</td>\n",
       "    </tr>\n",
       "    <tr>\n",
       "      <th>...</th>\n",
       "      <td>...</td>\n",
       "      <td>...</td>\n",
       "      <td>...</td>\n",
       "      <td>...</td>\n",
       "      <td>...</td>\n",
       "      <td>...</td>\n",
       "      <td>...</td>\n",
       "      <td>...</td>\n",
       "      <td>...</td>\n",
       "      <td>...</td>\n",
       "      <td>...</td>\n",
       "      <td>...</td>\n",
       "    </tr>\n",
       "    <tr>\n",
       "      <th>1593</th>\n",
       "      <td>6.8</td>\n",
       "      <td>0.620</td>\n",
       "      <td>0.08</td>\n",
       "      <td>1.9</td>\n",
       "      <td>0.068</td>\n",
       "      <td>28.0</td>\n",
       "      <td>38.0</td>\n",
       "      <td>0.99651</td>\n",
       "      <td>3.42</td>\n",
       "      <td>0.82</td>\n",
       "      <td>9.5</td>\n",
       "      <td>6</td>\n",
       "    </tr>\n",
       "    <tr>\n",
       "      <th>1594</th>\n",
       "      <td>6.2</td>\n",
       "      <td>0.600</td>\n",
       "      <td>0.08</td>\n",
       "      <td>2.0</td>\n",
       "      <td>0.090</td>\n",
       "      <td>32.0</td>\n",
       "      <td>44.0</td>\n",
       "      <td>0.99490</td>\n",
       "      <td>3.45</td>\n",
       "      <td>0.58</td>\n",
       "      <td>10.5</td>\n",
       "      <td>5</td>\n",
       "    </tr>\n",
       "    <tr>\n",
       "      <th>1595</th>\n",
       "      <td>5.9</td>\n",
       "      <td>0.550</td>\n",
       "      <td>0.10</td>\n",
       "      <td>2.2</td>\n",
       "      <td>0.062</td>\n",
       "      <td>39.0</td>\n",
       "      <td>51.0</td>\n",
       "      <td>0.99512</td>\n",
       "      <td>3.52</td>\n",
       "      <td>0.76</td>\n",
       "      <td>11.2</td>\n",
       "      <td>6</td>\n",
       "    </tr>\n",
       "    <tr>\n",
       "      <th>1597</th>\n",
       "      <td>5.9</td>\n",
       "      <td>0.645</td>\n",
       "      <td>0.12</td>\n",
       "      <td>2.0</td>\n",
       "      <td>0.075</td>\n",
       "      <td>32.0</td>\n",
       "      <td>44.0</td>\n",
       "      <td>0.99547</td>\n",
       "      <td>3.57</td>\n",
       "      <td>0.71</td>\n",
       "      <td>10.2</td>\n",
       "      <td>5</td>\n",
       "    </tr>\n",
       "    <tr>\n",
       "      <th>1598</th>\n",
       "      <td>6.0</td>\n",
       "      <td>0.310</td>\n",
       "      <td>0.47</td>\n",
       "      <td>3.6</td>\n",
       "      <td>0.067</td>\n",
       "      <td>18.0</td>\n",
       "      <td>42.0</td>\n",
       "      <td>0.99549</td>\n",
       "      <td>3.39</td>\n",
       "      <td>0.66</td>\n",
       "      <td>11.0</td>\n",
       "      <td>6</td>\n",
       "    </tr>\n",
       "  </tbody>\n",
       "</table>\n",
       "<p>1359 rows × 12 columns</p>\n",
       "</div>"
      ],
      "text/plain": [
       "      fixed acidity  volatile acidity  citric acid  residual sugar  chlorides  \\\n",
       "0               7.4             0.700         0.00             1.9      0.076   \n",
       "1               7.8             0.880         0.00             2.6      0.098   \n",
       "2               7.8             0.760         0.04             2.3      0.092   \n",
       "3              11.2             0.280         0.56             1.9      0.075   \n",
       "5               7.4             0.660         0.00             1.8      0.075   \n",
       "...             ...               ...          ...             ...        ...   \n",
       "1593            6.8             0.620         0.08             1.9      0.068   \n",
       "1594            6.2             0.600         0.08             2.0      0.090   \n",
       "1595            5.9             0.550         0.10             2.2      0.062   \n",
       "1597            5.9             0.645         0.12             2.0      0.075   \n",
       "1598            6.0             0.310         0.47             3.6      0.067   \n",
       "\n",
       "      free sulfur dioxide  total sulfur dioxide  density    pH  sulphates  \\\n",
       "0                    11.0                  34.0  0.99780  3.51       0.56   \n",
       "1                    25.0                  67.0  0.99680  3.20       0.68   \n",
       "2                    15.0                  54.0  0.99700  3.26       0.65   \n",
       "3                    17.0                  60.0  0.99800  3.16       0.58   \n",
       "5                    13.0                  40.0  0.99780  3.51       0.56   \n",
       "...                   ...                   ...      ...   ...        ...   \n",
       "1593                 28.0                  38.0  0.99651  3.42       0.82   \n",
       "1594                 32.0                  44.0  0.99490  3.45       0.58   \n",
       "1595                 39.0                  51.0  0.99512  3.52       0.76   \n",
       "1597                 32.0                  44.0  0.99547  3.57       0.71   \n",
       "1598                 18.0                  42.0  0.99549  3.39       0.66   \n",
       "\n",
       "      alcohol  quality  \n",
       "0         9.4        5  \n",
       "1         9.8        5  \n",
       "2         9.8        5  \n",
       "3         9.8        6  \n",
       "5         9.4        5  \n",
       "...       ...      ...  \n",
       "1593      9.5        6  \n",
       "1594     10.5        5  \n",
       "1595     11.2        6  \n",
       "1597     10.2        5  \n",
       "1598     11.0        6  \n",
       "\n",
       "[1359 rows x 12 columns]"
      ]
     },
     "execution_count": 7,
     "metadata": {},
     "output_type": "execute_result"
    }
   ],
   "source": [
    "# exclusão de linhas duplicadas\n",
    "dados.drop_duplicates()"
   ]
  },
  {
   "cell_type": "markdown",
   "id": "fd8e694e-9404-4ada-9eb5-0447ea46aad8",
   "metadata": {},
   "source": [
    "Base de dados atualizada após a limpeza dos registros duplicados."
   ]
  },
  {
   "cell_type": "markdown",
   "id": "3059c4ff-bd9f-4861-83d8-16f7aeb0d9d4",
   "metadata": {},
   "source": [
    "## 4. Visualização dos Dados"
   ]
  },
  {
   "cell_type": "code",
   "execution_count": 8,
   "id": "1df7ac14-36dd-4a09-86a1-99610732447c",
   "metadata": {},
   "outputs": [
    {
     "data": {
      "image/png": "[encoded data removed]",
      "text/plain": [
       "<Figure size 640x480 with 1 Axes>"
      ]
     },
     "metadata": {},
     "output_type": "display_data"
    }
   ],
   "source": [
    "# configurações do gráfico de barras\n",
    "media_nota = dados.groupby('quality')['volatile acidity'].mean() # distribuição média de acidez volátil por nota de qualidade\n",
    "fig,ax = plt.subplots()\n",
    "ax.barh(media_nota.index, media_nota)\n",
    "ax.set_title('Média da Distribuição da Acidez Volátil por Qualidade do Vinho')\n",
    "ax.set_xlabel('Nível de Acidez Volátil em g(ácido acético)/dm³')\n",
    "ax.set_ylabel('Nota de Qualidade')\n",
    "plt.xlim(0, 1)\n",
    "\n",
    "plt.show()"
   ]
  },
  {
   "cell_type": "markdown",
   "id": "a8ba36f8-e877-4718-9eef-6a037fba68aa",
   "metadata": {},
   "source": [
    "O gráfico demonstra a relação entre, a média da acidez volátil e a qualidade do vinho. Percebe-se que a acidez está diretamente relacionada à qualidade do vinho, portanto os vinhos mais bem avaliados, são aqueles com menor índice de acidez."
   ]
  },
  {
   "cell_type": "code",
   "execution_count": 19,
   "id": "c7a686cd-69f1-40a4-bf45-b28fb01ed01e",
   "metadata": {},
   "outputs": [
    {
     "data": {
      "image/png": "[encoded data removed]",
      "text/plain": [
       "<Figure size 640x480 with 1 Axes>"
      ]
     },
     "metadata": {},
     "output_type": "display_data"
    }
   ],
   "source": [
    "# configurações do gráfico de barras\n",
    "media_teor_alc = dados.groupby('quality')['alcohol'].mean() # distribuição média do teor alcólico por nota de qualidade\n",
    "fig,ax = plt.subplots()\n",
    "ax.barh(media_teor_alc.index, media_teor_alc)\n",
    "ax.set_title('Média da Distribuição do Teor Alcólico por Qualidade do Vinho')\n",
    "ax.set_xlabel('Nível do Teor Alcólico (% vol.)')\n",
    "ax.set_ylabel('Nota de Qualidade')\n",
    "plt.xlim(0, 14)\n",
    "\n",
    "plt.show()"
   ]
  },
  {
   "cell_type": "markdown",
   "id": "8de3f452-daec-45d5-930e-3d25335e5e1b",
   "metadata": {},
   "source": [
    "Agora é possível ver a relação entre, a qualidade do vinho e seu teor alcoólico. E interpretamos que os vinhos mais bem avaliados, são aqueles com níveis de álcool mais elevado."
   ]
  },
  {
   "cell_type": "code",
   "execution_count": 21,
   "id": "e9896a37-7410-4a91-bc50-e5b3043e991c",
   "metadata": {},
   "outputs": [
    {
     "name": "stdout",
     "output_type": "stream",
     "text": [
      "0.4761663240011362\n"
     ]
    }
   ],
   "source": [
    "# validação entre a correlação de teor alcoólico e qualidade do vinho\n",
    "correlacao = dados['alcohol'].corr(dados['quality'])\n",
    "print(correlacao)"
   ]
  },
  {
   "cell_type": "markdown",
   "id": "03537f4a-9082-4631-bbc1-175776ea13e9",
   "metadata": {},
   "source": [
    "Utilizando a correlação de Pearson, é possível identificar que o teor alcoólico possui 47,6% de influência na qualidade do vinho, se tornando um fator importante a ser analisado. "
   ]
  },
  {
   "cell_type": "code",
   "execution_count": 13,
   "id": "dc9dd310-f432-4470-8caf-984de3aed9ba",
   "metadata": {},
   "outputs": [
    {
     "data": {
      "image/png": "[encoded data removed]",
      "text/plain": [
       "<Figure size 640x480 with 1 Axes>"
      ]
     },
     "metadata": {},
     "output_type": "display_data"
    }
   ],
   "source": [
    "# configurações do gráfico scatter\n",
    "fig, ax = plt.subplots()\n",
    "amostra_acidez = dados.sample(frac = 0.5, random_state = 42) # definição de amostra de dados para melhorar a visualização de dados\n",
    "ax.scatter(amostra_acidez['volatile acidity'], amostra_acidez['alcohol'])\n",
    "\n",
    "ax.set_xlabel('Nível de Acidez Volátil em g(ácido acético)/dm³')\n",
    "ax.set_ylabel('Nível do Teor Alcólico (% vol.)')\n",
    "ax.set_title('Relação entre Acidez Volátil e Teor Alcoólico')\n",
    "\n",
    "ax.grid(True)\n",
    "fig.tight_layout()\n",
    "\n",
    "plt.show()"
   ]
  },
  {
   "cell_type": "markdown",
   "id": "58181fe5-64cf-4ae6-bc6f-a38e2693f2d8",
   "metadata": {},
   "source": [
    "Acima é demonstrado a relação entre, a acidez volátil e o teor alcoólico. E percebe-se que a acidez volátil possui pouca ou nenhuma influência com relação ao teor alcoólico, pois não existe um padrão seguido na exibição dos dados."
   ]
  },
  {
   "cell_type": "code",
   "execution_count": 18,
   "id": "6c64f924-a39e-43ea-8e1e-d770830de57d",
   "metadata": {},
   "outputs": [
    {
     "name": "stdout",
     "output_type": "stream",
     "text": [
      "-0.20228802715325617\n"
     ]
    }
   ],
   "source": [
    "# validação entre a correlação de acidez volátil e teor alcoólico\n",
    "correlacao = dados['alcohol'].corr(dados['volatile acidity'])\n",
    "print(correlacao)"
   ]
  },
  {
   "cell_type": "markdown",
   "id": "f51a1757-d0c5-49e9-b14a-e122cae9abf2",
   "metadata": {},
   "source": [
    "Novamente utilizando a correlação de Pearson, é possível identificar a afirmação de que a acidez não influencia diretamente no teor alcoólico, apresentando um índice de -20% de correlação."
   ]
  }
 ],
 "metadata": {
  "kernelspec": {
   "display_name": "Python 3 (ipykernel)",
   "language": "python",
   "name": "python3"
  },
  "language_info": {
   "codemirror_mode": {
    "name": "ipython",
    "version": 3
   },
   "file_extension": ".py",
   "mimetype": "text/x-python",
   "name": "python",
   "nbconvert_exporter": "python",
   "pygments_lexer": "ipython3",
   "version": "3.12.9"
  }
 },
 "nbformat": 4,
 "nbformat_minor": 5
}
